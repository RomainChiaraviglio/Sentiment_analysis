{
 "cells": [
  {
   "cell_type": "markdown",
   "metadata": {},
   "source": [
    "# Sentiment analysis of an amazon article reviews"
   ]
  },
  {
   "cell_type": "code",
   "execution_count": 1,
   "metadata": {},
   "outputs": [
    {
     "data": {
      "text/html": [
       "<div>\n",
       "<style scoped>\n",
       "    .dataframe tbody tr th:only-of-type {\n",
       "        vertical-align: middle;\n",
       "    }\n",
       "\n",
       "    .dataframe tbody tr th {\n",
       "        vertical-align: top;\n",
       "    }\n",
       "\n",
       "    .dataframe thead th {\n",
       "        text-align: right;\n",
       "    }\n",
       "</style>\n",
       "<table border=\"1\" class=\"dataframe\">\n",
       "  <thead>\n",
       "    <tr style=\"text-align: right;\">\n",
       "      <th></th>\n",
       "      <th>reviewText</th>\n",
       "      <th>overall</th>\n",
       "    </tr>\n",
       "  </thead>\n",
       "  <tbody>\n",
       "    <tr>\n",
       "      <td>0</td>\n",
       "      <td>I bought both boxed sets, books 1-5.  Really a...</td>\n",
       "      <td>5.0</td>\n",
       "    </tr>\n",
       "    <tr>\n",
       "      <td>1</td>\n",
       "      <td>I enjoyed this short book. But it was way way ...</td>\n",
       "      <td>3.0</td>\n",
       "    </tr>\n",
       "    <tr>\n",
       "      <td>2</td>\n",
       "      <td>I love Nicholas Sparks. I&amp;#8217;ve read everyt...</td>\n",
       "      <td>4.0</td>\n",
       "    </tr>\n",
       "    <tr>\n",
       "      <td>3</td>\n",
       "      <td>I really enjoyed this adventure and look forwa...</td>\n",
       "      <td>4.0</td>\n",
       "    </tr>\n",
       "    <tr>\n",
       "      <td>4</td>\n",
       "      <td>It was a decent read.. typical story line. Not...</td>\n",
       "      <td>3.0</td>\n",
       "    </tr>\n",
       "  </tbody>\n",
       "</table>\n",
       "</div>"
      ],
      "text/plain": [
       "                                          reviewText  overall\n",
       "0  I bought both boxed sets, books 1-5.  Really a...      5.0\n",
       "1  I enjoyed this short book. But it was way way ...      3.0\n",
       "2  I love Nicholas Sparks. I&#8217;ve read everyt...      4.0\n",
       "3  I really enjoyed this adventure and look forwa...      4.0\n",
       "4  It was a decent read.. typical story line. Not...      3.0"
      ]
     },
     "execution_count": 1,
     "metadata": {},
     "output_type": "execute_result"
    }
   ],
   "source": [
    "import numpy as np\n",
    "import pandas as pd\n",
    "import json\n",
    "\n",
    "file_name = 'books_small_10000.json'\n",
    "\n",
    "reviews = []\n",
    "\n",
    "with open(file_name) as f:\n",
    "    for line in f:\n",
    "        reviews.append(json.loads(line))\n",
    "\n",
    "df = pd.DataFrame(reviews)\n",
    "df = df[[\"reviewText\",\"overall\"]]\n",
    "\n",
    "df.head()"
   ]
  },
  {
   "cell_type": "markdown",
   "metadata": {},
   "source": [
    "## Creation of the labels\n",
    "We will use the score (\"overall\") to create our labels \"positive\" and \"negative\""
   ]
  },
  {
   "cell_type": "code",
   "execution_count": 2,
   "metadata": {},
   "outputs": [
    {
     "data": {
      "text/html": [
       "<div>\n",
       "<style scoped>\n",
       "    .dataframe tbody tr th:only-of-type {\n",
       "        vertical-align: middle;\n",
       "    }\n",
       "\n",
       "    .dataframe tbody tr th {\n",
       "        vertical-align: top;\n",
       "    }\n",
       "\n",
       "    .dataframe thead th {\n",
       "        text-align: right;\n",
       "    }\n",
       "</style>\n",
       "<table border=\"1\" class=\"dataframe\">\n",
       "  <thead>\n",
       "    <tr style=\"text-align: right;\">\n",
       "      <th></th>\n",
       "      <th>reviewText</th>\n",
       "      <th>sentiment</th>\n",
       "    </tr>\n",
       "  </thead>\n",
       "  <tbody>\n",
       "    <tr>\n",
       "      <td>0</td>\n",
       "      <td>I bought both boxed sets, books 1-5.  Really a...</td>\n",
       "      <td>POSITIVE</td>\n",
       "    </tr>\n",
       "    <tr>\n",
       "      <td>2</td>\n",
       "      <td>I love Nicholas Sparks. I&amp;#8217;ve read everyt...</td>\n",
       "      <td>POSITIVE</td>\n",
       "    </tr>\n",
       "    <tr>\n",
       "      <td>3</td>\n",
       "      <td>I really enjoyed this adventure and look forwa...</td>\n",
       "      <td>POSITIVE</td>\n",
       "    </tr>\n",
       "    <tr>\n",
       "      <td>5</td>\n",
       "      <td>I hoped for Mia to have some peace in this boo...</td>\n",
       "      <td>POSITIVE</td>\n",
       "    </tr>\n",
       "    <tr>\n",
       "      <td>6</td>\n",
       "      <td>The book has the fevered intensity of Oliver S...</td>\n",
       "      <td>NEGATIVE</td>\n",
       "    </tr>\n",
       "  </tbody>\n",
       "</table>\n",
       "</div>"
      ],
      "text/plain": [
       "                                          reviewText sentiment\n",
       "0  I bought both boxed sets, books 1-5.  Really a...  POSITIVE\n",
       "2  I love Nicholas Sparks. I&#8217;ve read everyt...  POSITIVE\n",
       "3  I really enjoyed this adventure and look forwa...  POSITIVE\n",
       "5  I hoped for Mia to have some peace in this boo...  POSITIVE\n",
       "6  The book has the fevered intensity of Oliver S...  NEGATIVE"
      ]
     },
     "execution_count": 2,
     "metadata": {},
     "output_type": "execute_result"
    }
   ],
   "source": [
    "# We remove the lines with score = 3.0 which is neutral\n",
    "df = df[df[\"overall\"]!=3.0]\n",
    "\n",
    "# Then is the score is > than 3.0 the sentiment is positive, else it's negative\n",
    "df[\"sentiment\"] = np.where(df[\"overall\"]>3.0, \"POSITIVE\", \"NEGATIVE\")\n",
    "\n",
    "df.drop(columns=\"overall\", inplace=True)\n",
    "df.head()"
   ]
  },
  {
   "cell_type": "markdown",
   "metadata": {},
   "source": [
    "## Balancing the labels"
   ]
  },
  {
   "cell_type": "code",
   "execution_count": 3,
   "metadata": {},
   "outputs": [
    {
     "data": {
      "text/plain": [
       "POSITIVE    8378\n",
       "NEGATIVE     644\n",
       "Name: sentiment, dtype: int64"
      ]
     },
     "execution_count": 3,
     "metadata": {},
     "output_type": "execute_result"
    }
   ],
   "source": [
    "pd.value_counts(df[\"sentiment\"])"
   ]
  },
  {
   "cell_type": "code",
   "execution_count": 4,
   "metadata": {},
   "outputs": [
    {
     "data": {
      "text/plain": [
       "POSITIVE    644\n",
       "NEGATIVE    644\n",
       "Name: sentiment, dtype: int64"
      ]
     },
     "execution_count": 4,
     "metadata": {},
     "output_type": "execute_result"
    }
   ],
   "source": [
    "# The labels are unbalanced, we need to pick as many positive labels as negative ones\n",
    "df = pd.concat([df[df[\"sentiment\"]==\"NEGATIVE\"], df[df[\"sentiment\"]==\"POSITIVE\"].sample(len(df[df[\"sentiment\"]==\"NEGATIVE\"]))]).sample(frac=1)\n",
    "pd.value_counts(df[\"sentiment\"])"
   ]
  },
  {
   "cell_type": "markdown",
   "metadata": {},
   "source": [
    "## Vectorisation of the text"
   ]
  },
  {
   "cell_type": "code",
   "execution_count": 5,
   "metadata": {},
   "outputs": [],
   "source": [
    "from sklearn.model_selection import train_test_split\n",
    "from sklearn.feature_extraction.text import TfidfVectorizer\n",
    "\n",
    "X_train, X_test, y_train, y_test = train_test_split(df[\"reviewText\"], df[\"sentiment\"], random_state=0)\n",
    "\n",
    "vect = TfidfVectorizer(min_df=5, ngram_range=(2,5), analyzer='char_wb').fit(X_train)\n",
    "Xtrain_vect = vect.transform(X_train)\n",
    "X_test_vect = vect.transform(X_test)"
   ]
  },
  {
   "cell_type": "markdown",
   "metadata": {},
   "source": [
    "## Model creation, fit and evaluation"
   ]
  },
  {
   "cell_type": "code",
   "execution_count": 6,
   "metadata": {},
   "outputs": [
    {
     "name": "stderr",
     "output_type": "stream",
     "text": [
      "D:\\Anaconda\\lib\\site-packages\\sklearn\\linear_model\\_logistic.py:765: ConvergenceWarning: lbfgs failed to converge (status=1):\n",
      "STOP: TOTAL NO. of ITERATIONS REACHED LIMIT.\n",
      "\n",
      "Increase the number of iterations (max_iter) or scale the data as shown in:\n",
      "    https://scikit-learn.org/stable/modules/preprocessing.html\n",
      "Please also refer to the documentation for alternative solver options:\n",
      "    https://scikit-learn.org/stable/modules/linear_model.html#logistic-regression\n",
      "  extra_warning_msg=_LOGISTIC_SOLVER_CONVERGENCE_MSG)\n"
     ]
    }
   ],
   "source": [
    "from sklearn.linear_model import LogisticRegression\n",
    "from sklearn.svm import SVC\n",
    "from sklearn.ensemble import RandomForestClassifier\n",
    "\n",
    "# Logistic Regression\n",
    "clf_lr = LogisticRegression(C=100).fit(Xtrain_vect, y_train)\n",
    "\n",
    "# SVC\n",
    "clf_svc = SVC().fit(Xtrain_vect, y_train)\n",
    "\n",
    "# Random Forest\n",
    "clf_rdf = RandomForestClassifier().fit(Xtrain_vect, y_train)"
   ]
  },
  {
   "cell_type": "code",
   "execution_count": 7,
   "metadata": {},
   "outputs": [
    {
     "name": "stdout",
     "output_type": "stream",
     "text": [
      "Score logistic regression :\n",
      "               precision    recall  f1-score   support\n",
      "\n",
      "    NEGATIVE       0.83      0.84      0.83       166\n",
      "    POSITIVE       0.83      0.82      0.82       156\n",
      "\n",
      "    accuracy                           0.83       322\n",
      "   macro avg       0.83      0.83      0.83       322\n",
      "weighted avg       0.83      0.83      0.83       322\n",
      "\n",
      "Score SVC :\n",
      "               precision    recall  f1-score   support\n",
      "\n",
      "    NEGATIVE       0.84      0.87      0.85       166\n",
      "    POSITIVE       0.85      0.82      0.84       156\n",
      "\n",
      "    accuracy                           0.84       322\n",
      "   macro avg       0.85      0.84      0.84       322\n",
      "weighted avg       0.85      0.84      0.84       322\n",
      "\n",
      "Score random forest :\n",
      "               precision    recall  f1-score   support\n",
      "\n",
      "    NEGATIVE       0.81      0.86      0.83       166\n",
      "    POSITIVE       0.84      0.78      0.81       156\n",
      "\n",
      "    accuracy                           0.82       322\n",
      "   macro avg       0.82      0.82      0.82       322\n",
      "weighted avg       0.82      0.82      0.82       322\n",
      "\n"
     ]
    }
   ],
   "source": [
    "from sklearn.metrics import classification_report\n",
    "print(\"Score logistic regression :\\n\",classification_report(y_test, clf_lr.predict(X_test_vect)))\n",
    "print(\"Score SVC :\\n\",classification_report(y_test, clf_svc.predict(X_test_vect)))\n",
    "print(\"Score random forest :\\n\",classification_report(y_test, clf_rdf.predict(X_test_vect)))"
   ]
  },
  {
   "cell_type": "markdown",
   "metadata": {},
   "source": [
    "## Model optimisation of the SVC which is the best model"
   ]
  },
  {
   "cell_type": "code",
   "execution_count": 8,
   "metadata": {},
   "outputs": [
    {
     "name": "stdout",
     "output_type": "stream",
     "text": [
      "Best params : {'C': 1}\n"
     ]
    }
   ],
   "source": [
    "from sklearn.model_selection import GridSearchCV\n",
    "\n",
    "grid_values = {\"C\":[1,2,3,4,5]}\n",
    "grid_svc = GridSearchCV(clf_svc, param_grid = grid_values).fit(Xtrain_vect, y_train)\n",
    "print(\"Best params :\",grid_svc.best_params_)"
   ]
  },
  {
   "cell_type": "markdown",
   "metadata": {},
   "source": [
    "## Saving and testing the model"
   ]
  },
  {
   "cell_type": "code",
   "execution_count": 9,
   "metadata": {},
   "outputs": [
    {
     "name": "stdout",
     "output_type": "stream",
     "text": [
      "['NEGATIVE' 'POSITIVE']\n"
     ]
    }
   ],
   "source": [
    "test = [\"I really didn't like the book, waist of time\", \"Nice book, the story is well pictured\"]\n",
    "test_vect = vect.transform(test)\n",
    "\n",
    "result = clf_svc.predict(test_vect)\n",
    "print(result)"
   ]
  },
  {
   "cell_type": "code",
   "execution_count": 10,
   "metadata": {},
   "outputs": [],
   "source": [
    "# Saving the model\n",
    "import pickle\n",
    "\n",
    "with open('./sentiment_analysis.pkl','wb') as model:\n",
    "    pickle.dump(clf_svc, model)"
   ]
  },
  {
   "cell_type": "code",
   "execution_count": null,
   "metadata": {},
   "outputs": [],
   "source": []
  }
 ],
 "metadata": {
  "kernelspec": {
   "display_name": "Python 3",
   "language": "python",
   "name": "python3"
  },
  "language_info": {
   "codemirror_mode": {
    "name": "ipython",
    "version": 3
   },
   "file_extension": ".py",
   "mimetype": "text/x-python",
   "name": "python",
   "nbconvert_exporter": "python",
   "pygments_lexer": "ipython3",
   "version": "3.7.4"
  }
 },
 "nbformat": 4,
 "nbformat_minor": 2
}
